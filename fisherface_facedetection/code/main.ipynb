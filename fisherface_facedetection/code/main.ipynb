{
 "cells": [
  {
   "cell_type": "code",
   "execution_count": 1,
   "metadata": {},
   "outputs": [],
   "source": [
    "# import cv2\n",
    "from PIL import Image\n",
    "from os import listdir\n",
    "from os.path import isfile, join\n",
    "import numpy as np\n",
    "from sklearn.decomposition import PCA\n",
    "from sklearn.model_selection import train_test_split\n"
   ]
  },
  {
   "cell_type": "code",
   "execution_count": 2,
   "metadata": {},
   "outputs": [],
   "source": [
    "def readdata(mypath):\n",
    "    onlyfiles = [f for f in listdir(mypath) if isfile(join(mypath, f))]\n",
    "    X = np.array([np.array(Image.open(join(mypath, file))).reshape(-1) for file in onlyfiles])\n",
    "    y = np.array([int(f.split('.')[0][-2:]) for f in onlyfiles])\n",
    "    return X,y"
   ]
  },
  {
   "cell_type": "code",
   "execution_count": 3,
   "metadata": {},
   "outputs": [
    {
     "name": "stdout",
     "output_type": "stream",
     "text": [
      "(165, 77760)\n",
      "[ 1  2  3  4  5  6  7  8  9 10 11 12 13 14 15]\n",
      "[ 1  2  3  4  5  6  7  8  9 10 11 12 13 14 15]\n",
      "(132, 77760)\n",
      "(33, 77760)\n",
      "(33,)\n"
     ]
    }
   ],
   "source": [
    "X,y = readdata(\"../data/yalefaces/images\")\n",
    "print(X.shape)\n",
    "print(np.unique(y))\n",
    "X_train, X_test, y_train, y_test = train_test_split(X, y, test_size=0.2, stratify = y)\n",
    "print(np.unique(y_test))\n",
    "print(X_train.shape)\n",
    "print(X_test.shape)\n",
    "print(y_test.shape)"
   ]
  },
  {
   "cell_type": "code",
   "execution_count": 4,
   "metadata": {},
   "outputs": [
    {
     "data": {
      "text/plain": [
       "PCA(copy=True, iterated_power='auto', n_components=64, random_state=None,\n",
       "    svd_solver='auto', tol=0.0, whiten=False)"
      ]
     },
     "execution_count": 4,
     "metadata": {},
     "output_type": "execute_result"
    }
   ],
   "source": [
    "\n",
    "pca = PCA(n_components=64)\n",
    "# pca = PCA()\n",
    "pca.fit(X_train)"
   ]
  },
  {
   "cell_type": "code",
   "execution_count": 5,
   "metadata": {},
   "outputs": [
    {
     "name": "stdout",
     "output_type": "stream",
     "text": [
      "[1.07280131e+08 4.94465317e+07 3.17674685e+07 2.73347390e+07\n",
      " 1.60968230e+07 1.44913783e+07 9.21236171e+06 7.90807095e+06\n",
      " 7.60697379e+06 6.35816519e+06 4.65600922e+06 4.03246346e+06\n",
      " 3.32773068e+06 3.30736317e+06 3.09835163e+06 2.98410534e+06\n",
      " 2.68641163e+06 2.30914441e+06 2.17651412e+06 2.02551404e+06\n",
      " 1.90845973e+06 1.64618412e+06 1.61554262e+06 1.40307343e+06\n",
      " 1.30594937e+06 1.26374265e+06 1.21968954e+06 1.14767354e+06\n",
      " 1.07810365e+06 1.04001047e+06 1.02301484e+06 9.57736476e+05\n",
      " 8.78493704e+05 8.68608903e+05 8.30535484e+05 7.81097514e+05\n",
      " 7.40866933e+05 7.06845363e+05 6.79329835e+05 6.51733624e+05\n",
      " 6.44568982e+05 5.97727110e+05 5.78221419e+05 5.63120504e+05\n",
      " 5.36381522e+05 5.31301532e+05 5.05344129e+05 4.88936286e+05\n",
      " 4.73468763e+05 4.57436921e+05 4.49918707e+05 4.28950795e+05\n",
      " 4.25454930e+05 4.05164278e+05 4.02824421e+05 3.82691880e+05\n",
      " 3.77274447e+05 3.68851575e+05 3.55127968e+05 3.46359309e+05\n",
      " 3.36796158e+05 3.28709275e+05 3.13235942e+05 2.99360823e+05]\n",
      "77760\n",
      "132\n"
     ]
    }
   ],
   "source": [
    "print(pca.explained_variance_)\n",
    "print(pca.n_features_)\n",
    "print(pca.n_samples_)"
   ]
  },
  {
   "cell_type": "code",
   "execution_count": 6,
   "metadata": {},
   "outputs": [
    {
     "name": "stdout",
     "output_type": "stream",
     "text": [
      "(132, 77760)\n",
      "(132, 64)\n",
      "(33, 64)\n"
     ]
    }
   ],
   "source": [
    "print(X_train.shape)\n",
    "X_train_new = pca.transform(X_train)\n",
    "X_test_new = pca.transform(X_test)\n",
    "print(X_train_new.shape)\n",
    "print(X_test_new.shape)"
   ]
  },
  {
   "cell_type": "code",
   "execution_count": 7,
   "metadata": {},
   "outputs": [
    {
     "data": {
      "text/plain": [
       "LinearDiscriminantAnalysis(n_components=None, priors=None, shrinkage=None,\n",
       "                           solver='svd', store_covariance=False, tol=0.0001)"
      ]
     },
     "execution_count": 7,
     "metadata": {},
     "output_type": "execute_result"
    }
   ],
   "source": [
    "from sklearn.discriminant_analysis import LinearDiscriminantAnalysis\n",
    "clf = LinearDiscriminantAnalysis()\n",
    "clf.fit(X_train_new, y_train)"
   ]
  },
  {
   "cell_type": "code",
   "execution_count": 8,
   "metadata": {},
   "outputs": [
    {
     "name": "stdout",
     "output_type": "stream",
     "text": [
      "1.0\n"
     ]
    }
   ],
   "source": [
    "print(clf.score(X_test_new,y_test))\n",
    "# print(for)"
   ]
  }
 ],
 "metadata": {
  "kernelspec": {
   "display_name": "Python 3",
   "language": "python",
   "name": "python3"
  },
  "language_info": {
   "codemirror_mode": {
    "name": "ipython",
    "version": 3
   },
   "file_extension": ".py",
   "mimetype": "text/x-python",
   "name": "python",
   "nbconvert_exporter": "python",
   "pygments_lexer": "ipython3",
   "version": "3.6.8"
  }
 },
 "nbformat": 4,
 "nbformat_minor": 2
}
