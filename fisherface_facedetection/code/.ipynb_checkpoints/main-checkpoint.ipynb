{
 "cells": [
  {
   "cell_type": "code",
   "execution_count": 1,
   "metadata": {},
   "outputs": [],
   "source": [
    "# import cv2\n",
    "from PIL import Image\n",
    "from os import listdir\n",
    "from os.path import isfile, join\n",
    "import numpy as np\n",
    "from sklearn.decomposition import \n",
    "from sklearn.model_selection import train_test_split\n"
   ]
  },
  {
   "cell_type": "code",
   "execution_count": 2,
   "metadata": {},
   "outputs": [],
   "source": [
    "def readdata(mypath):\n",
    "    onlyfiles = [f for f in listdir(mypath) if isfile(join(mypath, f))]\n",
    "    X = np.array([np.array(Image.open(join(mypath, file))).reshape(-1) for file in onlyfiles])\n",
    "    y = np.array([int(f.split('.')[0][-2:]) for f in onlyfiles])\n",
    "    return X,y"
   ]
  },
  {
   "cell_type": "code",
   "execution_count": 40,
   "metadata": {},
   "outputs": [
    {
     "name": "stdout",
     "output_type": "stream",
     "text": [
      "(165, 77760)\n",
      "[ 1  2  3  4  5  6  7  8  9 10 11 12 13 14 15]\n"
     ]
    },
    {
     "ename": "NameError",
     "evalue": "name 'train_test_split' is not defined",
     "output_type": "error",
     "traceback": [
      "\u001b[0;31m---------------------------------------------------------------------------\u001b[0m",
      "\u001b[0;31mNameError\u001b[0m                                 Traceback (most recent call last)",
      "\u001b[0;32m<ipython-input-40-3c4330c198c5>\u001b[0m in \u001b[0;36m<module>\u001b[0;34m\u001b[0m\n\u001b[1;32m      2\u001b[0m \u001b[0mprint\u001b[0m\u001b[0;34m(\u001b[0m\u001b[0mX\u001b[0m\u001b[0;34m.\u001b[0m\u001b[0mshape\u001b[0m\u001b[0;34m)\u001b[0m\u001b[0;34m\u001b[0m\u001b[0;34m\u001b[0m\u001b[0m\n\u001b[1;32m      3\u001b[0m \u001b[0mprint\u001b[0m\u001b[0;34m(\u001b[0m\u001b[0mnp\u001b[0m\u001b[0;34m.\u001b[0m\u001b[0munique\u001b[0m\u001b[0;34m(\u001b[0m\u001b[0my\u001b[0m\u001b[0;34m)\u001b[0m\u001b[0;34m)\u001b[0m\u001b[0;34m\u001b[0m\u001b[0;34m\u001b[0m\u001b[0m\n\u001b[0;32m----> 4\u001b[0;31m \u001b[0mX_train\u001b[0m\u001b[0;34m,\u001b[0m \u001b[0mX_test\u001b[0m\u001b[0;34m,\u001b[0m \u001b[0my_train\u001b[0m\u001b[0;34m,\u001b[0m \u001b[0my_test\u001b[0m \u001b[0;34m=\u001b[0m \u001b[0mtrain_test_split\u001b[0m\u001b[0;34m(\u001b[0m\u001b[0mX\u001b[0m\u001b[0;34m,\u001b[0m \u001b[0my\u001b[0m\u001b[0;34m,\u001b[0m \u001b[0mtest_size\u001b[0m\u001b[0;34m=\u001b[0m\u001b[0;36m0.33\u001b[0m\u001b[0;34m,\u001b[0m \u001b[0mrandom_state\u001b[0m\u001b[0;34m=\u001b[0m\u001b[0;36m42\u001b[0m\u001b[0;34m)\u001b[0m\u001b[0;34m\u001b[0m\u001b[0;34m\u001b[0m\u001b[0m\n\u001b[0m",
      "\u001b[0;31mNameError\u001b[0m: name 'train_test_split' is not defined"
     ]
    }
   ],
   "source": [
    "X,y = readdata(\"../data/yalefaces/images\")\n",
    "print(X.shape)\n",
    "print(np.unique(y))\n",
    "X_train, X_test, y_train, y_test = train_test_split(X, y, test_size=0.33, random_state=42)"
   ]
  },
  {
   "cell_type": "code",
   "execution_count": 39,
   "metadata": {},
   "outputs": [
    {
     "data": {
      "text/plain": [
       "PCA(copy=True, iterated_power='auto', n_components=155, random_state=None,\n",
       "    svd_solver='auto', tol=0.0, whiten=False)"
      ]
     },
     "execution_count": 39,
     "metadata": {},
     "output_type": "execute_result"
    }
   ],
   "source": [
    "pca = PCA(n_components=155)\n",
    "pca.fit(X)"
   ]
  },
  {
   "cell_type": "code",
   "execution_count": 31,
   "metadata": {},
   "outputs": [
    {
     "name": "stdout",
     "output_type": "stream",
     "text": [
      "[1.04814427e+08 4.81917043e+07 3.04386418e+07 2.55499459e+07\n",
      " 1.61813302e+07 1.41512308e+07 9.49392860e+06 7.90719908e+06\n",
      " 7.67797340e+06 6.36582730e+06 4.62063888e+06 3.99153627e+06\n",
      " 3.22368179e+06 3.09889979e+06 2.99702969e+06 2.74698944e+06\n",
      " 2.51390488e+06 2.25491018e+06 2.14098274e+06 2.04955793e+06\n",
      " 1.80493596e+06 1.66609516e+06 1.52630775e+06 1.45123505e+06\n",
      " 1.31646111e+06 1.30873488e+06 1.17453278e+06 1.07275252e+06\n",
      " 1.03625746e+06 9.59440356e+05 9.47635225e+05 9.01941569e+05\n",
      " 8.57583214e+05 8.08345460e+05 7.85629522e+05 7.29921325e+05\n",
      " 6.72366900e+05 6.47060919e+05 6.35386533e+05 6.09968953e+05\n",
      " 5.89505494e+05 5.68265398e+05 5.49599213e+05 5.30421204e+05\n",
      " 5.15095082e+05 5.02387173e+05 4.83582486e+05 4.64200638e+05\n",
      " 4.61713665e+05 4.43646333e+05 4.34612580e+05 4.23762387e+05\n",
      " 4.12891122e+05 4.02471475e+05 3.90406076e+05 3.65343097e+05\n",
      " 3.63065042e+05 3.55161901e+05 3.46964465e+05 3.41278785e+05\n",
      " 3.39950060e+05 3.19386566e+05 3.11827805e+05 3.03527619e+05\n",
      " 2.99016276e+05 2.89910759e+05 2.83923150e+05 2.77425426e+05\n",
      " 2.75384963e+05 2.65665580e+05 2.60673296e+05 2.58190390e+05\n",
      " 2.44508774e+05 2.41981391e+05 2.39547788e+05 2.32110345e+05\n",
      " 2.25040708e+05 2.21294899e+05 2.17373835e+05 2.08295812e+05\n",
      " 2.06623517e+05 2.05678988e+05 1.97942507e+05 1.94957039e+05\n",
      " 1.89756182e+05 1.84531289e+05 1.82067235e+05 1.79684364e+05\n",
      " 1.70758050e+05 1.68974656e+05 1.66659790e+05 1.62984514e+05\n",
      " 1.60256683e+05 1.58147595e+05 1.55927332e+05 1.52642334e+05\n",
      " 1.51416032e+05 1.47432279e+05 1.46038986e+05 1.41470388e+05\n",
      " 1.37836355e+05 1.33784942e+05 1.32467689e+05 1.30045249e+05\n",
      " 1.26387407e+05 1.22267950e+05 1.20890135e+05 1.18863813e+05\n",
      " 1.17114578e+05 1.13352137e+05 1.11128920e+05 1.09629316e+05\n",
      " 1.09066147e+05 1.06756917e+05 1.03977792e+05 1.01812320e+05\n",
      " 1.00695471e+05 9.67029855e+04 9.61994961e+04 9.36699028e+04\n",
      " 9.19550498e+04 8.97404117e+04 8.83791689e+04 8.59042368e+04\n",
      " 8.17966230e+04 7.95324874e+04 7.86119881e+04 7.60320549e+04\n",
      " 7.38798138e+04 7.18661275e+04 7.03204266e+04 6.96962189e+04\n",
      " 6.74197787e+04 6.55150730e+04 6.45111701e+04 6.25726341e+04\n",
      " 5.91657123e+04 5.78994815e+04 5.57345896e+04 5.38317180e+04\n",
      " 5.12774613e+04 4.96969020e+04 4.66681920e+04 4.08003642e+04\n",
      " 3.98379801e+04 3.74289122e+04 3.49131232e+04 3.34749772e+04\n",
      " 3.23243277e+04 3.16419414e+04 2.84658648e+04 1.93355950e+04\n",
      " 1.78096762e+04 9.17918839e+03 7.72653327e+03]\n",
      "77760\n",
      "165\n"
     ]
    }
   ],
   "source": [
    "print(pca.explained_variance_)\n",
    "print(pca.n_features_)\n",
    "print(pca.n_samples_)"
   ]
  },
  {
   "cell_type": "code",
   "execution_count": 37,
   "metadata": {},
   "outputs": [
    {
     "name": "stdout",
     "output_type": "stream",
     "text": [
      "(165, 77760)\n",
      "(165, 155)\n"
     ]
    }
   ],
   "source": [
    "print(X.shape)\n",
    "X_new = pca.transform(X)\n",
    "print(X_new.shape)"
   ]
  }
 ],
 "metadata": {
  "kernelspec": {
   "display_name": "Python 3",
   "language": "python",
   "name": "python3"
  },
  "language_info": {
   "codemirror_mode": {
    "name": "ipython",
    "version": 3
   },
   "file_extension": ".py",
   "mimetype": "text/x-python",
   "name": "python",
   "nbconvert_exporter": "python",
   "pygments_lexer": "ipython3",
   "version": "3.6.8"
  }
 },
 "nbformat": 4,
 "nbformat_minor": 2
}
